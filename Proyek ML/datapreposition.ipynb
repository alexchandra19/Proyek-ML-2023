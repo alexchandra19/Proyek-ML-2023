{
 "cells": [
  {
   "cell_type": "code",
   "execution_count": 1,
   "metadata": {},
   "outputs": [
    {
     "ename": "ModuleNotFoundError",
     "evalue": "No module named 'statsmodels'",
     "output_type": "error",
     "traceback": [
      "\u001b[1;31m---------------------------------------------------------------------------\u001b[0m",
      "\u001b[1;31mModuleNotFoundError\u001b[0m                       Traceback (most recent call last)",
      "\u001b[1;32malexchandra19\\Proyek-ML-2023\\Proyek ML\\datapreposition.ipynb Cell 1\u001b[0m line \u001b[0;36m5\n\u001b[0;32m      <a href='vscode-notebook-cell://github/alexchandra19/Proyek-ML-2023/Proyek%20ML/datapreposition.ipynb#X60sdnNjb2RlLXZmcw%3D%3D?line=2'>3</a>\u001b[0m \u001b[39mimport\u001b[39;00m \u001b[39mnumpy\u001b[39;00m \u001b[39mas\u001b[39;00m \u001b[39mnp\u001b[39;00m\n\u001b[0;32m      <a href='vscode-notebook-cell://github/alexchandra19/Proyek-ML-2023/Proyek%20ML/datapreposition.ipynb#X60sdnNjb2RlLXZmcw%3D%3D?line=3'>4</a>\u001b[0m \u001b[39mimport\u001b[39;00m \u001b[39mmatplotlib\u001b[39;00m\u001b[39m.\u001b[39;00m\u001b[39mpyplot\u001b[39;00m \u001b[39mas\u001b[39;00m \u001b[39mplt\u001b[39;00m\n\u001b[1;32m----> <a href='vscode-notebook-cell://github/alexchandra19/Proyek-ML-2023/Proyek%20ML/datapreposition.ipynb#X60sdnNjb2RlLXZmcw%3D%3D?line=4'>5</a>\u001b[0m \u001b[39mimport\u001b[39;00m \u001b[39mstatsmodels\u001b[39;00m\u001b[39m.\u001b[39;00m\u001b[39mapi\u001b[39;00m \u001b[39mas\u001b[39;00m \u001b[39msm\u001b[39;00m\n\u001b[0;32m      <a href='vscode-notebook-cell://github/alexchandra19/Proyek-ML-2023/Proyek%20ML/datapreposition.ipynb#X60sdnNjb2RlLXZmcw%3D%3D?line=5'>6</a>\u001b[0m \u001b[39mfrom\u001b[39;00m \u001b[39msklearn\u001b[39;00m\u001b[39m.\u001b[39;00m\u001b[39mmodel_selection\u001b[39;00m \u001b[39mimport\u001b[39;00m train_test_split, KFold\n\u001b[0;32m      <a href='vscode-notebook-cell://github/alexchandra19/Proyek-ML-2023/Proyek%20ML/datapreposition.ipynb#X60sdnNjb2RlLXZmcw%3D%3D?line=6'>7</a>\u001b[0m \u001b[39mfrom\u001b[39;00m \u001b[39msklearn\u001b[39;00m\u001b[39m.\u001b[39;00m\u001b[39mpreprocessing\u001b[39;00m \u001b[39mimport\u001b[39;00m MinMaxScaler, StandardScaler\n",
      "\u001b[1;31mModuleNotFoundError\u001b[0m: No module named 'statsmodels'"
     ]
    }
   ],
   "source": [
    "import pandas as pd\n",
    "import seaborn as sns\n",
    "import numpy as np\n",
    "import matplotlib.pyplot as plt\n",
    "import statsmodels.api as sm\n",
    "from sklearn.model_selection import train_test_split, KFold\n",
    "from sklearn.preprocessing import MinMaxScaler, StandardScaler\n",
    "from sklearn.linear_model import LogisticRegression\n",
    "from sklearn.metrics import (\n",
    "    accuracy_score,\n",
    "    precision_score,\n",
    "    classification_report,\n",
    "    recall_score,\n",
    "    f1_score,\n",
    "    confusion_matrix,\n",
    "    mean_squared_error,\n",
    "    roc_curve,\n",
    "    auc,\n",
    ")\n",
    "from sklearn import metrics\n",
    "from statsmodels.stats.proportion import proportions_ztest\n",
    "from sklearn.datasets import make_classification\n",
    "from sklearn.discriminant_analysis import LinearDiscriminantAnalysis, QuadraticDiscriminantAnalysis\n",
    "from sklearn.naive_bayes import GaussianNB"
   ]
  },
  {
   "cell_type": "code",
   "execution_count": null,
   "metadata": {},
   "outputs": [
    {
     "data": {
      "text/html": [
       "<div>\n",
       "<style scoped>\n",
       "    .dataframe tbody tr th:only-of-type {\n",
       "        vertical-align: middle;\n",
       "    }\n",
       "\n",
       "    .dataframe tbody tr th {\n",
       "        vertical-align: top;\n",
       "    }\n",
       "\n",
       "    .dataframe thead th {\n",
       "        text-align: right;\n",
       "    }\n",
       "</style>\n",
       "<table border=\"1\" class=\"dataframe\">\n",
       "  <thead>\n",
       "    <tr style=\"text-align: right;\">\n",
       "      <th></th>\n",
       "      <th>ph</th>\n",
       "      <th>Hardness</th>\n",
       "      <th>Solids</th>\n",
       "      <th>Chloramines</th>\n",
       "      <th>Sulfate</th>\n",
       "      <th>Conductivity</th>\n",
       "      <th>Organic_carbon</th>\n",
       "      <th>Trihalomethanes</th>\n",
       "      <th>Turbidity</th>\n",
       "      <th>Potability</th>\n",
       "    </tr>\n",
       "  </thead>\n",
       "  <tbody>\n",
       "    <tr>\n",
       "      <th>0</th>\n",
       "      <td>0.000000</td>\n",
       "      <td>204.890455</td>\n",
       "      <td>20791.318981</td>\n",
       "      <td>7.300212</td>\n",
       "      <td>368.516441</td>\n",
       "      <td>564.308654</td>\n",
       "      <td>10.379783</td>\n",
       "      <td>86.990970</td>\n",
       "      <td>2.963135</td>\n",
       "      <td>0</td>\n",
       "    </tr>\n",
       "    <tr>\n",
       "      <th>1</th>\n",
       "      <td>3.716080</td>\n",
       "      <td>129.422921</td>\n",
       "      <td>18630.057858</td>\n",
       "      <td>6.635246</td>\n",
       "      <td>0.000000</td>\n",
       "      <td>592.885359</td>\n",
       "      <td>15.180013</td>\n",
       "      <td>56.329076</td>\n",
       "      <td>4.500656</td>\n",
       "      <td>0</td>\n",
       "    </tr>\n",
       "    <tr>\n",
       "      <th>2</th>\n",
       "      <td>8.099124</td>\n",
       "      <td>224.236259</td>\n",
       "      <td>19909.541732</td>\n",
       "      <td>9.275884</td>\n",
       "      <td>0.000000</td>\n",
       "      <td>418.606213</td>\n",
       "      <td>16.868637</td>\n",
       "      <td>66.420093</td>\n",
       "      <td>3.055934</td>\n",
       "      <td>0</td>\n",
       "    </tr>\n",
       "    <tr>\n",
       "      <th>3</th>\n",
       "      <td>8.316766</td>\n",
       "      <td>214.373394</td>\n",
       "      <td>22018.417441</td>\n",
       "      <td>8.059332</td>\n",
       "      <td>356.886136</td>\n",
       "      <td>363.266516</td>\n",
       "      <td>18.436524</td>\n",
       "      <td>100.341674</td>\n",
       "      <td>4.628771</td>\n",
       "      <td>0</td>\n",
       "    </tr>\n",
       "    <tr>\n",
       "      <th>4</th>\n",
       "      <td>9.092223</td>\n",
       "      <td>181.101509</td>\n",
       "      <td>17978.986339</td>\n",
       "      <td>6.546600</td>\n",
       "      <td>310.135738</td>\n",
       "      <td>398.410813</td>\n",
       "      <td>11.558279</td>\n",
       "      <td>31.997993</td>\n",
       "      <td>4.075075</td>\n",
       "      <td>0</td>\n",
       "    </tr>\n",
       "    <tr>\n",
       "      <th>...</th>\n",
       "      <td>...</td>\n",
       "      <td>...</td>\n",
       "      <td>...</td>\n",
       "      <td>...</td>\n",
       "      <td>...</td>\n",
       "      <td>...</td>\n",
       "      <td>...</td>\n",
       "      <td>...</td>\n",
       "      <td>...</td>\n",
       "      <td>...</td>\n",
       "    </tr>\n",
       "    <tr>\n",
       "      <th>3271</th>\n",
       "      <td>4.668102</td>\n",
       "      <td>193.681735</td>\n",
       "      <td>47580.991603</td>\n",
       "      <td>7.166639</td>\n",
       "      <td>359.948574</td>\n",
       "      <td>526.424171</td>\n",
       "      <td>13.894419</td>\n",
       "      <td>66.687695</td>\n",
       "      <td>4.435821</td>\n",
       "      <td>1</td>\n",
       "    </tr>\n",
       "    <tr>\n",
       "      <th>3272</th>\n",
       "      <td>7.808856</td>\n",
       "      <td>193.553212</td>\n",
       "      <td>17329.802160</td>\n",
       "      <td>8.061362</td>\n",
       "      <td>0.000000</td>\n",
       "      <td>392.449580</td>\n",
       "      <td>19.903225</td>\n",
       "      <td>0.000000</td>\n",
       "      <td>2.798243</td>\n",
       "      <td>1</td>\n",
       "    </tr>\n",
       "    <tr>\n",
       "      <th>3273</th>\n",
       "      <td>9.419510</td>\n",
       "      <td>175.762646</td>\n",
       "      <td>33155.578218</td>\n",
       "      <td>7.350233</td>\n",
       "      <td>0.000000</td>\n",
       "      <td>432.044783</td>\n",
       "      <td>11.039070</td>\n",
       "      <td>69.845400</td>\n",
       "      <td>3.298875</td>\n",
       "      <td>1</td>\n",
       "    </tr>\n",
       "    <tr>\n",
       "      <th>3274</th>\n",
       "      <td>5.126763</td>\n",
       "      <td>230.603758</td>\n",
       "      <td>11983.869376</td>\n",
       "      <td>6.303357</td>\n",
       "      <td>0.000000</td>\n",
       "      <td>402.883113</td>\n",
       "      <td>11.168946</td>\n",
       "      <td>77.488213</td>\n",
       "      <td>4.708658</td>\n",
       "      <td>1</td>\n",
       "    </tr>\n",
       "    <tr>\n",
       "      <th>3275</th>\n",
       "      <td>7.874671</td>\n",
       "      <td>195.102299</td>\n",
       "      <td>17404.177061</td>\n",
       "      <td>7.509306</td>\n",
       "      <td>0.000000</td>\n",
       "      <td>327.459760</td>\n",
       "      <td>16.140368</td>\n",
       "      <td>78.698446</td>\n",
       "      <td>2.309149</td>\n",
       "      <td>1</td>\n",
       "    </tr>\n",
       "  </tbody>\n",
       "</table>\n",
       "<p>3276 rows × 10 columns</p>\n",
       "</div>"
      ],
      "text/plain": [
       "            ph    Hardness        Solids  Chloramines     Sulfate  \\\n",
       "0     0.000000  204.890455  20791.318981     7.300212  368.516441   \n",
       "1     3.716080  129.422921  18630.057858     6.635246    0.000000   \n",
       "2     8.099124  224.236259  19909.541732     9.275884    0.000000   \n",
       "3     8.316766  214.373394  22018.417441     8.059332  356.886136   \n",
       "4     9.092223  181.101509  17978.986339     6.546600  310.135738   \n",
       "...        ...         ...           ...          ...         ...   \n",
       "3271  4.668102  193.681735  47580.991603     7.166639  359.948574   \n",
       "3272  7.808856  193.553212  17329.802160     8.061362    0.000000   \n",
       "3273  9.419510  175.762646  33155.578218     7.350233    0.000000   \n",
       "3274  5.126763  230.603758  11983.869376     6.303357    0.000000   \n",
       "3275  7.874671  195.102299  17404.177061     7.509306    0.000000   \n",
       "\n",
       "      Conductivity  Organic_carbon  Trihalomethanes  Turbidity  Potability  \n",
       "0       564.308654       10.379783        86.990970   2.963135           0  \n",
       "1       592.885359       15.180013        56.329076   4.500656           0  \n",
       "2       418.606213       16.868637        66.420093   3.055934           0  \n",
       "3       363.266516       18.436524       100.341674   4.628771           0  \n",
       "4       398.410813       11.558279        31.997993   4.075075           0  \n",
       "...            ...             ...              ...        ...         ...  \n",
       "3271    526.424171       13.894419        66.687695   4.435821           1  \n",
       "3272    392.449580       19.903225         0.000000   2.798243           1  \n",
       "3273    432.044783       11.039070        69.845400   3.298875           1  \n",
       "3274    402.883113       11.168946        77.488213   4.708658           1  \n",
       "3275    327.459760       16.140368        78.698446   2.309149           1  \n",
       "\n",
       "[3276 rows x 10 columns]"
      ]
     },
     "execution_count": 3,
     "metadata": {},
     "output_type": "execute_result"
    }
   ],
   "source": [
    "# read dari link URL\n",
    "url = 'https://raw.githubusercontent.com/alexchandra19/Proyek-ML-2023/main/Proyek%20ML/water_potability.csv'\n",
    "data = pd.read_csv(url)\n",
    "data"
   ]
  },
  {
   "cell_type": "code",
   "execution_count": null,
   "metadata": {},
   "outputs": [
    {
     "data": {
      "text/html": [
       "<div>\n",
       "<style scoped>\n",
       "    .dataframe tbody tr th:only-of-type {\n",
       "        vertical-align: middle;\n",
       "    }\n",
       "\n",
       "    .dataframe tbody tr th {\n",
       "        vertical-align: top;\n",
       "    }\n",
       "\n",
       "    .dataframe thead th {\n",
       "        text-align: right;\n",
       "    }\n",
       "</style>\n",
       "<table border=\"1\" class=\"dataframe\">\n",
       "  <thead>\n",
       "    <tr style=\"text-align: right;\">\n",
       "      <th></th>\n",
       "      <th>ph</th>\n",
       "      <th>Hardness</th>\n",
       "      <th>Solids</th>\n",
       "      <th>Chloramines</th>\n",
       "      <th>Sulfate</th>\n",
       "      <th>Conductivity</th>\n",
       "      <th>Organic_carbon</th>\n",
       "      <th>Trihalomethanes</th>\n",
       "      <th>Turbidity</th>\n",
       "      <th>Potability</th>\n",
       "    </tr>\n",
       "  </thead>\n",
       "  <tbody>\n",
       "    <tr>\n",
       "      <th>count</th>\n",
       "      <td>3276.000000</td>\n",
       "      <td>3276.000000</td>\n",
       "      <td>3276.000000</td>\n",
       "      <td>3276.000000</td>\n",
       "      <td>3276.000000</td>\n",
       "      <td>3276.000000</td>\n",
       "      <td>3276.000000</td>\n",
       "      <td>3276.000000</td>\n",
       "      <td>3276.000000</td>\n",
       "      <td>3276.000000</td>\n",
       "    </tr>\n",
       "    <tr>\n",
       "      <th>mean</th>\n",
       "      <td>6.019540</td>\n",
       "      <td>196.369496</td>\n",
       "      <td>22014.092526</td>\n",
       "      <td>7.122277</td>\n",
       "      <td>254.203468</td>\n",
       "      <td>426.205111</td>\n",
       "      <td>14.284970</td>\n",
       "      <td>63.112960</td>\n",
       "      <td>3.966786</td>\n",
       "      <td>0.390110</td>\n",
       "    </tr>\n",
       "    <tr>\n",
       "      <th>std</th>\n",
       "      <td>2.924207</td>\n",
       "      <td>32.879761</td>\n",
       "      <td>8768.570828</td>\n",
       "      <td>1.583085</td>\n",
       "      <td>146.765192</td>\n",
       "      <td>80.824064</td>\n",
       "      <td>3.308162</td>\n",
       "      <td>21.353531</td>\n",
       "      <td>0.780382</td>\n",
       "      <td>0.487849</td>\n",
       "    </tr>\n",
       "    <tr>\n",
       "      <th>min</th>\n",
       "      <td>0.000000</td>\n",
       "      <td>47.432000</td>\n",
       "      <td>320.942611</td>\n",
       "      <td>0.352000</td>\n",
       "      <td>0.000000</td>\n",
       "      <td>181.483754</td>\n",
       "      <td>2.200000</td>\n",
       "      <td>0.000000</td>\n",
       "      <td>1.450000</td>\n",
       "      <td>0.000000</td>\n",
       "    </tr>\n",
       "    <tr>\n",
       "      <th>25%</th>\n",
       "      <td>5.283146</td>\n",
       "      <td>176.850538</td>\n",
       "      <td>15666.690297</td>\n",
       "      <td>6.127421</td>\n",
       "      <td>240.722848</td>\n",
       "      <td>365.734414</td>\n",
       "      <td>12.065801</td>\n",
       "      <td>53.793688</td>\n",
       "      <td>3.439711</td>\n",
       "      <td>0.000000</td>\n",
       "    </tr>\n",
       "    <tr>\n",
       "      <th>50%</th>\n",
       "      <td>6.735249</td>\n",
       "      <td>196.967627</td>\n",
       "      <td>20927.833607</td>\n",
       "      <td>7.130299</td>\n",
       "      <td>318.660382</td>\n",
       "      <td>421.884968</td>\n",
       "      <td>14.218338</td>\n",
       "      <td>65.445962</td>\n",
       "      <td>3.955028</td>\n",
       "      <td>0.000000</td>\n",
       "    </tr>\n",
       "    <tr>\n",
       "      <th>75%</th>\n",
       "      <td>7.870050</td>\n",
       "      <td>216.667456</td>\n",
       "      <td>27332.762127</td>\n",
       "      <td>8.114887</td>\n",
       "      <td>350.385756</td>\n",
       "      <td>481.792304</td>\n",
       "      <td>16.557652</td>\n",
       "      <td>76.666609</td>\n",
       "      <td>4.500320</td>\n",
       "      <td>1.000000</td>\n",
       "    </tr>\n",
       "    <tr>\n",
       "      <th>max</th>\n",
       "      <td>14.000000</td>\n",
       "      <td>323.124000</td>\n",
       "      <td>61227.196008</td>\n",
       "      <td>13.127000</td>\n",
       "      <td>481.030642</td>\n",
       "      <td>753.342620</td>\n",
       "      <td>28.300000</td>\n",
       "      <td>124.000000</td>\n",
       "      <td>6.739000</td>\n",
       "      <td>1.000000</td>\n",
       "    </tr>\n",
       "  </tbody>\n",
       "</table>\n",
       "</div>"
      ],
      "text/plain": [
       "                ph     Hardness        Solids  Chloramines      Sulfate  \\\n",
       "count  3276.000000  3276.000000   3276.000000  3276.000000  3276.000000   \n",
       "mean      6.019540   196.369496  22014.092526     7.122277   254.203468   \n",
       "std       2.924207    32.879761   8768.570828     1.583085   146.765192   \n",
       "min       0.000000    47.432000    320.942611     0.352000     0.000000   \n",
       "25%       5.283146   176.850538  15666.690297     6.127421   240.722848   \n",
       "50%       6.735249   196.967627  20927.833607     7.130299   318.660382   \n",
       "75%       7.870050   216.667456  27332.762127     8.114887   350.385756   \n",
       "max      14.000000   323.124000  61227.196008    13.127000   481.030642   \n",
       "\n",
       "       Conductivity  Organic_carbon  Trihalomethanes    Turbidity   Potability  \n",
       "count   3276.000000     3276.000000      3276.000000  3276.000000  3276.000000  \n",
       "mean     426.205111       14.284970        63.112960     3.966786     0.390110  \n",
       "std       80.824064        3.308162        21.353531     0.780382     0.487849  \n",
       "min      181.483754        2.200000         0.000000     1.450000     0.000000  \n",
       "25%      365.734414       12.065801        53.793688     3.439711     0.000000  \n",
       "50%      421.884968       14.218338        65.445962     3.955028     0.000000  \n",
       "75%      481.792304       16.557652        76.666609     4.500320     1.000000  \n",
       "max      753.342620       28.300000       124.000000     6.739000     1.000000  "
      ]
     },
     "execution_count": 4,
     "metadata": {},
     "output_type": "execute_result"
    }
   ],
   "source": [
    "# memuat deskripsi setiap kolom dataframe\n",
    "data.describe()"
   ]
  },
  {
   "cell_type": "code",
   "execution_count": null,
   "metadata": {},
   "outputs": [
    {
     "data": {
      "text/html": [
       "<div>\n",
       "<style scoped>\n",
       "    .dataframe tbody tr th:only-of-type {\n",
       "        vertical-align: middle;\n",
       "    }\n",
       "\n",
       "    .dataframe tbody tr th {\n",
       "        vertical-align: top;\n",
       "    }\n",
       "\n",
       "    .dataframe thead th {\n",
       "        text-align: right;\n",
       "    }\n",
       "</style>\n",
       "<table border=\"1\" class=\"dataframe\">\n",
       "  <thead>\n",
       "    <tr style=\"text-align: right;\">\n",
       "      <th></th>\n",
       "      <th>ph</th>\n",
       "      <th>Hardness</th>\n",
       "      <th>Solids</th>\n",
       "      <th>Chloramines</th>\n",
       "      <th>Sulfate</th>\n",
       "      <th>Conductivity</th>\n",
       "      <th>Organic_carbon</th>\n",
       "      <th>Trihalomethanes</th>\n",
       "      <th>Turbidity</th>\n",
       "      <th>Potability</th>\n",
       "    </tr>\n",
       "  </thead>\n",
       "  <tbody>\n",
       "    <tr>\n",
       "      <th>ph</th>\n",
       "      <td>1.000000</td>\n",
       "      <td>0.032591</td>\n",
       "      <td>-0.051277</td>\n",
       "      <td>-0.010452</td>\n",
       "      <td>-0.010128</td>\n",
       "      <td>0.030879</td>\n",
       "      <td>0.034793</td>\n",
       "      <td>0.013248</td>\n",
       "      <td>-0.009120</td>\n",
       "      <td>0.020390</td>\n",
       "    </tr>\n",
       "    <tr>\n",
       "      <th>Hardness</th>\n",
       "      <td>0.032591</td>\n",
       "      <td>1.000000</td>\n",
       "      <td>-0.046899</td>\n",
       "      <td>-0.030054</td>\n",
       "      <td>-0.031065</td>\n",
       "      <td>-0.023915</td>\n",
       "      <td>0.003610</td>\n",
       "      <td>-0.005691</td>\n",
       "      <td>-0.014449</td>\n",
       "      <td>-0.013837</td>\n",
       "    </tr>\n",
       "    <tr>\n",
       "      <th>Solids</th>\n",
       "      <td>-0.051277</td>\n",
       "      <td>-0.046899</td>\n",
       "      <td>1.000000</td>\n",
       "      <td>-0.070148</td>\n",
       "      <td>-0.026671</td>\n",
       "      <td>0.013831</td>\n",
       "      <td>0.010242</td>\n",
       "      <td>-0.023065</td>\n",
       "      <td>0.019546</td>\n",
       "      <td>0.033743</td>\n",
       "    </tr>\n",
       "    <tr>\n",
       "      <th>Chloramines</th>\n",
       "      <td>-0.010452</td>\n",
       "      <td>-0.030054</td>\n",
       "      <td>-0.070148</td>\n",
       "      <td>1.000000</td>\n",
       "      <td>0.002513</td>\n",
       "      <td>-0.020486</td>\n",
       "      <td>-0.012653</td>\n",
       "      <td>0.014974</td>\n",
       "      <td>0.002363</td>\n",
       "      <td>0.023779</td>\n",
       "    </tr>\n",
       "    <tr>\n",
       "      <th>Sulfate</th>\n",
       "      <td>-0.010128</td>\n",
       "      <td>-0.031065</td>\n",
       "      <td>-0.026671</td>\n",
       "      <td>0.002513</td>\n",
       "      <td>1.000000</td>\n",
       "      <td>-0.017943</td>\n",
       "      <td>0.029329</td>\n",
       "      <td>-0.011642</td>\n",
       "      <td>0.000244</td>\n",
       "      <td>0.011542</td>\n",
       "    </tr>\n",
       "    <tr>\n",
       "      <th>Conductivity</th>\n",
       "      <td>0.030879</td>\n",
       "      <td>-0.023915</td>\n",
       "      <td>0.013831</td>\n",
       "      <td>-0.020486</td>\n",
       "      <td>-0.017943</td>\n",
       "      <td>1.000000</td>\n",
       "      <td>0.020966</td>\n",
       "      <td>0.016318</td>\n",
       "      <td>0.005798</td>\n",
       "      <td>-0.008128</td>\n",
       "    </tr>\n",
       "    <tr>\n",
       "      <th>Organic_carbon</th>\n",
       "      <td>0.034793</td>\n",
       "      <td>0.003610</td>\n",
       "      <td>0.010242</td>\n",
       "      <td>-0.012653</td>\n",
       "      <td>0.029329</td>\n",
       "      <td>0.020966</td>\n",
       "      <td>1.000000</td>\n",
       "      <td>-0.013381</td>\n",
       "      <td>-0.027308</td>\n",
       "      <td>-0.030001</td>\n",
       "    </tr>\n",
       "    <tr>\n",
       "      <th>Trihalomethanes</th>\n",
       "      <td>0.013248</td>\n",
       "      <td>-0.005691</td>\n",
       "      <td>-0.023065</td>\n",
       "      <td>0.014974</td>\n",
       "      <td>-0.011642</td>\n",
       "      <td>0.016318</td>\n",
       "      <td>-0.013381</td>\n",
       "      <td>1.000000</td>\n",
       "      <td>-0.019066</td>\n",
       "      <td>0.021094</td>\n",
       "    </tr>\n",
       "    <tr>\n",
       "      <th>Turbidity</th>\n",
       "      <td>-0.009120</td>\n",
       "      <td>-0.014449</td>\n",
       "      <td>0.019546</td>\n",
       "      <td>0.002363</td>\n",
       "      <td>0.000244</td>\n",
       "      <td>0.005798</td>\n",
       "      <td>-0.027308</td>\n",
       "      <td>-0.019066</td>\n",
       "      <td>1.000000</td>\n",
       "      <td>0.001581</td>\n",
       "    </tr>\n",
       "    <tr>\n",
       "      <th>Potability</th>\n",
       "      <td>0.020390</td>\n",
       "      <td>-0.013837</td>\n",
       "      <td>0.033743</td>\n",
       "      <td>0.023779</td>\n",
       "      <td>0.011542</td>\n",
       "      <td>-0.008128</td>\n",
       "      <td>-0.030001</td>\n",
       "      <td>0.021094</td>\n",
       "      <td>0.001581</td>\n",
       "      <td>1.000000</td>\n",
       "    </tr>\n",
       "  </tbody>\n",
       "</table>\n",
       "</div>"
      ],
      "text/plain": [
       "                       ph  Hardness    Solids  Chloramines   Sulfate  \\\n",
       "ph               1.000000  0.032591 -0.051277    -0.010452 -0.010128   \n",
       "Hardness         0.032591  1.000000 -0.046899    -0.030054 -0.031065   \n",
       "Solids          -0.051277 -0.046899  1.000000    -0.070148 -0.026671   \n",
       "Chloramines     -0.010452 -0.030054 -0.070148     1.000000  0.002513   \n",
       "Sulfate         -0.010128 -0.031065 -0.026671     0.002513  1.000000   \n",
       "Conductivity     0.030879 -0.023915  0.013831    -0.020486 -0.017943   \n",
       "Organic_carbon   0.034793  0.003610  0.010242    -0.012653  0.029329   \n",
       "Trihalomethanes  0.013248 -0.005691 -0.023065     0.014974 -0.011642   \n",
       "Turbidity       -0.009120 -0.014449  0.019546     0.002363  0.000244   \n",
       "Potability       0.020390 -0.013837  0.033743     0.023779  0.011542   \n",
       "\n",
       "                 Conductivity  Organic_carbon  Trihalomethanes  Turbidity  \\\n",
       "ph                   0.030879        0.034793         0.013248  -0.009120   \n",
       "Hardness            -0.023915        0.003610        -0.005691  -0.014449   \n",
       "Solids               0.013831        0.010242        -0.023065   0.019546   \n",
       "Chloramines         -0.020486       -0.012653         0.014974   0.002363   \n",
       "Sulfate             -0.017943        0.029329        -0.011642   0.000244   \n",
       "Conductivity         1.000000        0.020966         0.016318   0.005798   \n",
       "Organic_carbon       0.020966        1.000000        -0.013381  -0.027308   \n",
       "Trihalomethanes      0.016318       -0.013381         1.000000  -0.019066   \n",
       "Turbidity            0.005798       -0.027308        -0.019066   1.000000   \n",
       "Potability          -0.008128       -0.030001         0.021094   0.001581   \n",
       "\n",
       "                 Potability  \n",
       "ph                 0.020390  \n",
       "Hardness          -0.013837  \n",
       "Solids             0.033743  \n",
       "Chloramines        0.023779  \n",
       "Sulfate            0.011542  \n",
       "Conductivity      -0.008128  \n",
       "Organic_carbon    -0.030001  \n",
       "Trihalomethanes    0.021094  \n",
       "Turbidity          0.001581  \n",
       "Potability         1.000000  "
      ]
     },
     "execution_count": 5,
     "metadata": {},
     "output_type": "execute_result"
    }
   ],
   "source": [
    "# memuat korelasi setiap kolom dataframe dgn potability\n",
    "data.corr()"
   ]
  },
  {
   "cell_type": "markdown",
   "metadata": {},
   "source": [
    "Data Cleaning & Preprocessing"
   ]
  },
  {
   "cell_type": "code",
   "execution_count": null,
   "metadata": {},
   "outputs": [
    {
     "data": {
      "text/plain": [
       "ph                 0\n",
       "Hardness           0\n",
       "Solids             0\n",
       "Chloramines        0\n",
       "Sulfate            0\n",
       "Conductivity       0\n",
       "Organic_carbon     0\n",
       "Trihalomethanes    0\n",
       "Turbidity          0\n",
       "Potability         0\n",
       "dtype: int64"
      ]
     },
     "execution_count": 6,
     "metadata": {},
     "output_type": "execute_result"
    }
   ],
   "source": [
    "# Menghitung jumlah data kosong pada setiap kolom\n",
    "data.isna().sum()"
   ]
  },
  {
   "cell_type": "code",
   "execution_count": null,
   "metadata": {},
   "outputs": [],
   "source": [
    "# replace missing values with 0\n",
    "data.fillna(0, inplace=True)\n",
    "# Step 3: Save the updated DataFrame back to the same file\n",
    "data.to_csv(url, index=False)  # Set index to False to avoid writing the index column"
   ]
  },
  {
   "cell_type": "code",
   "execution_count": null,
   "metadata": {},
   "outputs": [
    {
     "data": {
      "text/plain": [
       "ph                 0\n",
       "Hardness           0\n",
       "Solids             0\n",
       "Chloramines        0\n",
       "Sulfate            0\n",
       "Conductivity       0\n",
       "Organic_carbon     0\n",
       "Trihalomethanes    0\n",
       "Turbidity          0\n",
       "Potability         0\n",
       "dtype: int64"
      ]
     },
     "execution_count": 8,
     "metadata": {},
     "output_type": "execute_result"
    }
   ],
   "source": [
    "# menghitung jumlah data kosong pada setiap kolom\n",
    "data.isna().sum()"
   ]
  },
  {
   "cell_type": "code",
   "execution_count": null,
   "metadata": {},
   "outputs": [
    {
     "name": "stdout",
     "output_type": "stream",
     "text": [
      "Sudah tidak ada data kosong\n"
     ]
    }
   ],
   "source": [
    "print(\"Sudah tidak ada data kosong\")"
   ]
  },
  {
   "cell_type": "code",
   "execution_count": null,
   "metadata": {},
   "outputs": [
    {
     "name": "stdout",
     "output_type": "stream",
     "text": [
      "            ph    Hardness        Solids  Chloramines     Sulfate  \\\n",
      "0     0.000000  204.890455  20791.318981     7.300212  368.516441   \n",
      "1     3.716080  129.422921  18630.057858     6.635246    0.000000   \n",
      "2     8.099124  224.236259  19909.541732     9.275884    0.000000   \n",
      "3     8.316766  214.373394  22018.417441     8.059332  356.886136   \n",
      "4     9.092223  181.101509  17978.986339     6.546600  310.135738   \n",
      "...        ...         ...           ...          ...         ...   \n",
      "3271  4.668102  193.681735  47580.991603     7.166639  359.948574   \n",
      "3272  7.808856  193.553212  17329.802160     8.061362    0.000000   \n",
      "3273  9.419510  175.762646  33155.578218     7.350233    0.000000   \n",
      "3274  5.126763  230.603758  11983.869376     6.303357    0.000000   \n",
      "3275  7.874671  195.102299  17404.177061     7.509306    0.000000   \n",
      "\n",
      "      Conductivity  Organic_carbon  Trihalomethanes  Turbidity  Potability  \n",
      "0       564.308654       10.379783        86.990970   2.963135           0  \n",
      "1       592.885359       15.180013        56.329076   4.500656           0  \n",
      "2       418.606213       16.868637        66.420093   3.055934           0  \n",
      "3       363.266516       18.436524       100.341674   4.628771           0  \n",
      "4       398.410813       11.558279        31.997993   4.075075           0  \n",
      "...            ...             ...              ...        ...         ...  \n",
      "3271    526.424171       13.894419        66.687695   4.435821           1  \n",
      "3272    392.449580       19.903225         0.000000   2.798243           1  \n",
      "3273    432.044783       11.039070        69.845400   3.298875           1  \n",
      "3274    402.883113       11.168946        77.488213   4.708658           1  \n",
      "3275    327.459760       16.140368        78.698446   2.309149           1  \n",
      "\n",
      "[3276 rows x 10 columns]\n"
     ]
    }
   ],
   "source": [
    "# print dataset yang telah diupdate\n",
    "print(data)"
   ]
  },
  {
   "cell_type": "markdown",
   "metadata": {},
   "source": [
    "p-value"
   ]
  },
  {
   "cell_type": "code",
   "execution_count": null,
   "metadata": {},
   "outputs": [],
   "source": [
    "# predictor variables (X) & response variable (y) \n",
    "X = data.drop(['Potability'], axis=1)\n",
    "y = (data['Potability'] == 1)  # 1 = potable"
   ]
  },
  {
   "cell_type": "code",
   "execution_count": null,
   "metadata": {},
   "outputs": [
    {
     "name": "stdout",
     "output_type": "stream",
     "text": [
      "                 Generalized Linear Model Regression Results                  \n",
      "==============================================================================\n",
      "Dep. Variable:                      y   No. Observations:                  700\n",
      "Model:                            GLM   Df Residuals:                      682\n",
      "Model Family:                Binomial   Df Model:                           17\n",
      "Link Function:                  Logit   Scale:                          1.0000\n",
      "Method:                          IRLS   Log-Likelihood:                -200.11\n",
      "Date:                Sun, 22 Oct 2023   Deviance:                       400.21\n",
      "Time:                        12:05:32   Pearson chi2:                 1.25e+03\n",
      "No. Iterations:                   100   Pseudo R-squ. (CS):             0.5572\n",
      "Covariance Type:            nonrobust                                         \n",
      "==============================================================================\n",
      "                 coef    std err          z      P>|z|      [0.025      0.975]\n",
      "------------------------------------------------------------------------------\n",
      "x1             0.1268      0.126      1.008      0.314      -0.120       0.373\n",
      "x2            -0.5387      0.053    -10.257      0.000      -0.642      -0.436\n",
      "x3             0.2294      0.126      1.827      0.068      -0.017       0.475\n",
      "x4             0.0630      0.132      0.478      0.633      -0.196       0.322\n",
      "x5            -0.0544      0.127     -0.427      0.669      -0.304       0.195\n",
      "x6             1.7647      0.128     13.764      0.000       1.513       2.016\n",
      "x7             0.0325      0.127      0.257      0.797      -0.216       0.281\n",
      "x8            -0.0298      0.127     -0.234      0.815      -0.279       0.220\n",
      "x9            -0.0190      0.138     -0.138      0.890      -0.289       0.251\n",
      "x10            0.0508      0.126      0.404      0.686      -0.196       0.297\n",
      "x11            0.1377      0.134      1.029      0.303      -0.125       0.400\n",
      "x12            0.5055      0.133      3.794      0.000       0.244       0.767\n",
      "x13           -0.1374      0.135     -1.015      0.310      -0.403       0.128\n",
      "x14            0.1765      0.137      1.291      0.197      -0.091       0.444\n",
      "x15           -0.5721      0.118     -4.845      0.000      -0.804      -0.341\n",
      "x16           -0.0271      0.126     -0.215      0.830      -0.274       0.220\n",
      "x17            0.0195      0.129      0.152      0.879      -0.233       0.272\n",
      "x18           -0.0634      0.128     -0.495      0.620      -0.314       0.187\n",
      "x19           -0.8334      0.060    -13.792      0.000      -0.952      -0.715\n",
      "x20            0.0906      0.133      0.680      0.497      -0.171       0.352\n",
      "==============================================================================\n"
     ]
    }
   ],
   "source": [
    "# Generate a synthetic dataset (replace this with your own data)\n",
    "X, y = make_classification(n_samples=1000, n_features=20, random_state=42)\n",
    "\n",
    "#split data into train & test\n",
    "X_train, X_test, y_train, y_test = train_test_split(X, y, test_size=0.3, random_state=100)\n",
    "\n",
    "glm= sm.GLM(y_train, X_train, family=sm.families.Binomial())\n",
    "results = glm.fit()\n",
    "\n",
    "# Predict probabilities for the testing data\n",
    "probs = results.predict(exog=X_test)\n",
    "\n",
    "# Print the summary of the logistic regression model\n",
    "print(results.summary())"
   ]
  },
  {
   "cell_type": "markdown",
   "metadata": {},
   "source": [
    "MinMax Scalling (Normalization)"
   ]
  },
  {
   "cell_type": "code",
   "execution_count": null,
   "metadata": {},
   "outputs": [],
   "source": [
    "scaler = MinMaxScaler()\n",
    "scaler.fit(X_train)\n",
    "X_train = scaler.transform(X_train)\n",
    "X_test = scaler.transform(X_test)"
   ]
  },
  {
   "cell_type": "markdown",
   "metadata": {},
   "source": [
    "Logistic Regression Model"
   ]
  },
  {
   "cell_type": "markdown",
   "metadata": {},
   "source": [
    "Confusion Matrix Logistic Regression Train"
   ]
  },
  {
   "cell_type": "code",
   "execution_count": null,
   "metadata": {},
   "outputs": [
    {
     "data": {
      "image/png": "[encoded data removed]",
      "text/plain": [
       "<Figure size 640x480 with 2 Axes>"
      ]
     },
     "metadata": {},
     "output_type": "display_data"
    }
   ],
   "source": [
    "logreg = LogisticRegression()\n",
    "logreg.fit(X_train, y_train)\n",
    "\n",
    "# Make predictions on the training data using the LDA model\n",
    "y_pred = logreg.predict(X_train)\n",
    "\n",
    "# Create a confusion matrix with labeled classes\n",
    "confusion = confusion_matrix(y_train, y_pred)\n",
    "\n",
    "# Get the unique class labels from y_train\n",
    "class_labels = sorted(set(y_train))\n",
    "\n",
    "# Plot the confusion matrix with values\n",
    "sns.heatmap(pd.DataFrame(confusion, index=class_labels, columns=class_labels), annot=True, cmap='Blues', fmt='d')\n",
    "plt.title(\"Confusion Matrix\")\n",
    "plt.show()\n"
   ]
  },
  {
   "cell_type": "markdown",
   "metadata": {},
   "source": [
    "Confusion Matrix Logistic Regression Test"
   ]
  },
  {
   "cell_type": "code",
   "execution_count": null,
   "metadata": {},
   "outputs": [
    {
     "data": {
      "image/png": "[encoded data removed]",
      "text/plain": [
       "<Figure size 640x480 with 2 Axes>"
      ]
     },
     "metadata": {},
     "output_type": "display_data"
    }
   ],
   "source": [
    "# Make predictions on the test data using the LDA model\n",
    "y_pred = logreg.predict(X_test)\n",
    "\n",
    "# Create a confusion matrix with labeled classes\n",
    "confusion = confusion_matrix(y_test, y_pred)\n",
    "\n",
    "# Get the unique class labels from y_test\n",
    "class_labels = sorted(set(y_test))\n",
    "\n",
    "# Plot the confusion matrix with values\n",
    "sns.heatmap(pd.DataFrame(confusion, index=class_labels, columns=class_labels), annot=True, cmap='Blues', fmt='d')\n",
    "plt.title(\"Confusion Matrix\")\n",
    "plt.show()\n"
   ]
  },
  {
   "cell_type": "markdown",
   "metadata": {},
   "source": [
    "Hypothesis testing"
   ]
  },
  {
   "cell_type": "code",
   "execution_count": null,
   "metadata": {},
   "outputs": [
    {
     "name": "stdout",
     "output_type": "stream",
     "text": [
      "P-value =  8.450463443404447e-71\n",
      "Tolak H0. The proportions of potable and non-potable water are significantly different\n"
     ]
    }
   ],
   "source": [
    "contingency_table = pd.crosstab(data['Potability'], columns='count')\n",
    "\n",
    "# Extract the counts for potable (1) and non-potable (0) water\n",
    "potable_count = contingency_table.loc[1, 'count']\n",
    "non_potable_count = contingency_table.loc[0, 'count']\n",
    "\n",
    "# Perform a two-sample proportion test\n",
    "stat, p_value = proportions_ztest([potable_count, non_potable_count], [potable_count + non_potable_count], alternative='two-sided')\n",
    "\n",
    "# Define the significance level (alpha)\n",
    "alpha = 0.05\n",
    "\n",
    "# Check if the p-value is less than alpha to determine statistical significance\n",
    "print(\"P-value = \", p_value)\n",
    "if p_value < alpha:\n",
    "    print(f\"Tolak H0. The proportions of potable and non-potable water are significantly different\")\n",
    "else:\n",
    "    print(f\"Terima H0. There is no significant difference in the proportions of potable and non-potable water\")"
   ]
  },
  {
   "cell_type": "markdown",
   "metadata": {},
   "source": [
    "K-Fold Logistic"
   ]
  },
  {
   "cell_type": "code",
   "execution_count": null,
   "metadata": {},
   "outputs": [
    {
     "name": "stdout",
     "output_type": "stream",
     "text": [
      "Average Training Accuracy: 0.89\n",
      "Average Test Accuracy: 0.84\n",
      "Average Training MSE: 0.11\n",
      "Average Test MSE: 0.16\n"
     ]
    }
   ],
   "source": [
    "# Number of folds for cross-validation\n",
    "k = 10  # You can adjust the number of folds\n",
    "\n",
    "# Initialize variables to store accuracy and MSE results\n",
    "train_accuracies = []\n",
    "test_accuracies = []\n",
    "train_mses = []\n",
    "test_mses = []\n",
    "\n",
    "# Perform k-fold cross-validation on the training data\n",
    "kf = KFold(n_splits=k, shuffle=True, random_state=1)\n",
    "\n",
    "for train_index, val_index in kf.split(X_train):\n",
    "    X_train_fold, X_val_fold = X_train[train_index], X_train[val_index]\n",
    "    y_train_fold, y_val_fold = y_train[train_index], y_train[val_index]\n",
    "\n",
    "    # Fit the LDA model on the training fold\n",
    "    logreg.fit(X_train_fold, y_train_fold)\n",
    "\n",
    "    # Evaluate the LDA model on the training fold\n",
    "    train_pred = logreg.predict(X_train_fold)\n",
    "    train_accuracy = accuracy_score(y_train_fold, train_pred)\n",
    "    train_accuracies.append(train_accuracy)\n",
    "\n",
    "    # Calculate and store the MSE for training fold\n",
    "    train_mse = mean_squared_error(y_train_fold, train_pred)\n",
    "    train_mses.append(train_mse)\n",
    "\n",
    "    # Evaluate the LDA model on the test data\n",
    "    test_pred = logreg.predict(X_test)\n",
    "    test_accuracy = accuracy_score(y_test, test_pred)\n",
    "    test_accuracies.append(test_accuracy)\n",
    "\n",
    "    # Calculate and store the MSE for test data\n",
    "    test_mse = mean_squared_error(y_test, test_pred)\n",
    "    test_mses.append(test_mse)\n",
    "\n",
    "# Calculate and display average accuracy and MSE for training and test data\n",
    "avg_train_accuracy = sum(train_accuracies) / len(train_accuracies)\n",
    "avg_test_accuracy = sum(test_accuracies) / len(test_accuracies)\n",
    "avg_train_mse = sum(train_mses) / len(train_mses)\n",
    "avg_test_mse = sum(test_mses) / len(test_mses)\n",
    "\n",
    "print(f\"Average Training Accuracy: {avg_train_accuracy:.2f}\")\n",
    "print(f\"Average Test Accuracy: {avg_test_accuracy:.2f}\")\n",
    "print(f\"Average Training MSE: {avg_train_mse:.2f}\")\n",
    "print(f\"Average Test MSE: {avg_test_mse:.2f}\")"
   ]
  },
  {
   "cell_type": "code",
   "execution_count": null,
   "metadata": {},
   "outputs": [
    {
     "data": {
      "image/png": "[encoded data removed]",
      "text/plain": [
       "<Figure size 800x600 with 1 Axes>"
      ]
     },
     "metadata": {},
     "output_type": "display_data"
    }
   ],
   "source": [
    "# Initialize the model (Logistic Regression in this example)\n",
    "model = LogisticRegression()\n",
    "\n",
    "# Fit the model on the training data\n",
    "model.fit(X_train, y_train)\n",
    "\n",
    "# Predict probabilities on the test data\n",
    "y_score = model.predict_proba(X_test)[:, 1]\n",
    "\n",
    "# Calculate the ROC curve\n",
    "fpr, tpr, _ = roc_curve(y_test, y_score)\n",
    "\n",
    "# Calculate the AUC (Area Under the Curve)\n",
    "roc_auc = auc(fpr, tpr)\n",
    "\n",
    "# Plot the ROC curve\n",
    "plt.figure(figsize=(8, 6))\n",
    "plt.plot(fpr, tpr, color='darkorange', lw=2, label=f'ROC curve (AUC = {roc_auc:.2f})')\n",
    "plt.plot([0, 1], [0, 1], color='navy', lw=2, linestyle='--')\n",
    "plt.xlim([0.0, 1.0])\n",
    "plt.ylim([0.0, 1.05])\n",
    "plt.xlabel('False Positive Rate')\n",
    "plt.ylabel('True Positive Rate')\n",
    "plt.title('ROC Curve')\n",
    "plt.legend(loc='lower right')\n",
    "plt.show()"
   ]
  },
  {
   "cell_type": "markdown",
   "metadata": {},
   "source": [
    "LDA"
   ]
  },
  {
   "cell_type": "code",
   "execution_count": null,
   "metadata": {},
   "outputs": [],
   "source": [
    "# Initialize the LDA model\n",
    "lda = LinearDiscriminantAnalysis()\n",
    "\n",
    "# Fit the LDA model on the training data\n",
    "lda.fit(X_train, y_train)\n",
    "\n",
    "# Perform dimensionality reduction on both the training and test data\n",
    "X_train_lda = lda.transform(X_train)\n",
    "X_test_lda = lda.transform(X_test)"
   ]
  },
  {
   "cell_type": "code",
   "execution_count": null,
   "metadata": {},
   "outputs": [
    {
     "data": {
      "text/plain": [
       "array([[0.4541743 , 0.61376764, 0.42128898, 0.53157285, 0.48053106,\n",
       "        0.40558084, 0.47221467, 0.51425601, 0.57614389, 0.47142882,\n",
       "        0.51550258, 0.39738343, 0.48025171, 0.48570063, 0.48157044,\n",
       "        0.56794344, 0.52995629, 0.45925265, 0.60170796, 0.53574178],\n",
       "       [0.46384314, 0.46113338, 0.4295478 , 0.51836563, 0.49393304,\n",
       "        0.65294829, 0.48421105, 0.50577615, 0.57257406, 0.47382756,\n",
       "        0.5291987 , 0.41517763, 0.46690306, 0.48799792, 0.48512268,\n",
       "        0.56101704, 0.52922872, 0.46965845, 0.39845825, 0.54312637]])"
      ]
     },
     "execution_count": 53,
     "metadata": {},
     "output_type": "execute_result"
    }
   ],
   "source": [
    "lda.means_"
   ]
  },
  {
   "cell_type": "code",
   "execution_count": null,
   "metadata": {},
   "outputs": [
    {
     "data": {
      "text/plain": [
       "array([0.49857143, 0.50142857])"
      ]
     },
     "execution_count": 54,
     "metadata": {},
     "output_type": "execute_result"
    }
   ],
   "source": [
    "lda.priors_"
   ]
  },
  {
   "cell_type": "markdown",
   "metadata": {},
   "source": [
    "Accuracy, Precision, Recall, F-1 Score LDA Train"
   ]
  },
  {
   "cell_type": "code",
   "execution_count": null,
   "metadata": {},
   "outputs": [
    {
     "name": "stdout",
     "output_type": "stream",
     "text": [
      "Accuracy: 0.89\n",
      "Precision: 0.90\n",
      "Recall: 0.88\n",
      "F1-Score: 0.89\n",
      "Classification Report:\n",
      "               precision    recall  f1-score   support\n",
      "\n",
      "           0       0.89      0.91      0.90       349\n",
      "           1       0.90      0.88      0.89       351\n",
      "\n",
      "    accuracy                           0.89       700\n",
      "   macro avg       0.89      0.89      0.89       700\n",
      "weighted avg       0.89      0.89      0.89       700\n",
      "\n"
     ]
    }
   ],
   "source": [
    "# Fit the model on the training data\n",
    "lda.fit(X_train, y_train)\n",
    "\n",
    "# Make predictions on the test data\n",
    "y_pred = lda.predict(X_train)\n",
    "\n",
    "# Calculate and print accuracy\n",
    "accuracy = accuracy_score(y_train, y_pred)\n",
    "print(f'Accuracy: {accuracy:.2f}')\n",
    "\n",
    "# Calculate and print precision\n",
    "precision = precision_score(y_train, y_pred)\n",
    "print(f'Precision: {precision:.2f}')\n",
    "\n",
    "# Calculate and print recall\n",
    "recall = recall_score(y_train, y_pred)\n",
    "print(f'Recall: {recall:.2f}')\n",
    "\n",
    "# Calculate and print F1-score\n",
    "f1 = f1_score(y_train, y_pred)\n",
    "print(f'F1-Score: {f1:.2f}')\n",
    "\n",
    "# Generate a classification report\n",
    "class_report = classification_report(y_train, y_pred)\n",
    "print(\"Classification Report:\\n\", class_report)"
   ]
  },
  {
   "cell_type": "markdown",
   "metadata": {},
   "source": [
    "Accuracy, Precision, Recall, F-1 Score LDA Test"
   ]
  },
  {
   "cell_type": "code",
   "execution_count": null,
   "metadata": {},
   "outputs": [
    {
     "name": "stdout",
     "output_type": "stream",
     "text": [
      "Accuracy: 0.84\n",
      "Precision: 0.87\n",
      "Recall: 0.80\n",
      "F1-Score: 0.83\n",
      "Classification Report:\n",
      "               precision    recall  f1-score   support\n",
      "\n",
      "           0       0.82      0.88      0.85       151\n",
      "           1       0.87      0.80      0.83       149\n",
      "\n",
      "    accuracy                           0.84       300\n",
      "   macro avg       0.84      0.84      0.84       300\n",
      "weighted avg       0.84      0.84      0.84       300\n",
      "\n"
     ]
    }
   ],
   "source": [
    "# Fit the model on the training data\n",
    "lda.fit(X_test, y_test)\n",
    "\n",
    "# Make predictions on the test data\n",
    "y_pred = lda.predict(X_test)\n",
    "\n",
    "# Calculate and print accuracy\n",
    "accuracy = accuracy_score(y_test, y_pred)\n",
    "print(f'Accuracy: {accuracy:.2f}')\n",
    "\n",
    "# Calculate and print precision\n",
    "precision = precision_score(y_test, y_pred)\n",
    "print(f'Precision: {precision:.2f}')\n",
    "\n",
    "# Calculate and print recall\n",
    "recall = recall_score(y_test, y_pred)\n",
    "print(f'Recall: {recall:.2f}')\n",
    "\n",
    "# Calculate and print F1-score\n",
    "f1 = f1_score(y_test, y_pred)\n",
    "print(f'F1-Score: {f1:.2f}')\n",
    "\n",
    "# Generate a classification report\n",
    "class_report = classification_report(y_test, y_pred)\n",
    "print(\"Classification Report:\\n\", class_report)"
   ]
  },
  {
   "cell_type": "markdown",
   "metadata": {},
   "source": [
    "Confusion Matrix LDA Train"
   ]
  },
  {
   "cell_type": "code",
   "execution_count": null,
   "metadata": {},
   "outputs": [
    {
     "data": {
      "image/png": "[encoded data removed]",
      "text/plain": [
       "<Figure size 640x480 with 2 Axes>"
      ]
     },
     "metadata": {},
     "output_type": "display_data"
    }
   ],
   "source": [
    "lda.fit(X_train, y_train)\n",
    "\n",
    "# Make predictions on the training data using the LDA model\n",
    "y_pred = lda.predict(X_train)\n",
    "\n",
    "# Create a confusion matrix with labeled classes\n",
    "confusion = confusion_matrix(y_train, y_pred)\n",
    "\n",
    "# Get the unique class labels from y_train\n",
    "class_labels = sorted(set(y_train))\n",
    "\n",
    "# Plot the confusion matrix with values\n",
    "sns.heatmap(pd.DataFrame(confusion, index=class_labels, columns=class_labels), annot=True, cmap='Blues', fmt='d')\n",
    "plt.title(\"Confusion Matrix\")\n",
    "plt.show()\n"
   ]
  },
  {
   "cell_type": "markdown",
   "metadata": {},
   "source": [
    "Confusion Matrix LDA Test"
   ]
  },
  {
   "cell_type": "code",
   "execution_count": null,
   "metadata": {},
   "outputs": [
    {
     "data": {
      "image/png": "[encoded data removed]",
      "text/plain": [
       "<Figure size 640x480 with 2 Axes>"
      ]
     },
     "metadata": {},
     "output_type": "display_data"
    }
   ],
   "source": [
    "lda.fit(X_test, y_test)\n",
    "\n",
    "# Make predictions on the test data using the LDA model\n",
    "y_pred = lda.predict(X_test)\n",
    "\n",
    "# Create a confusion matrix with labeled classes\n",
    "confusion = confusion_matrix(y_test, y_pred)\n",
    "\n",
    "# Get the unique class labels from y_test\n",
    "class_labels = sorted(set(y_test))\n",
    "\n",
    "# Plot the confusion matrix with values\n",
    "sns.heatmap(pd.DataFrame(confusion, index=class_labels, columns=class_labels), annot=True, cmap='Blues', fmt='d')\n",
    "plt.title(\"Confusion Matrix\")\n",
    "plt.show()\n"
   ]
  },
  {
   "cell_type": "markdown",
   "metadata": {},
   "source": [
    "K-Fold LDA"
   ]
  },
  {
   "cell_type": "code",
   "execution_count": null,
   "metadata": {},
   "outputs": [
    {
     "name": "stdout",
     "output_type": "stream",
     "text": [
      "Average Training Accuracy: 0.90\n",
      "Average Test Accuracy: 0.83\n",
      "Average Training MSE: 0.10\n",
      "Average Test MSE: 0.17\n"
     ]
    }
   ],
   "source": [
    "# Number of folds for cross-validation\n",
    "k = 10  # You can adjust the number of folds\n",
    "\n",
    "# Initialize variables to store accuracy and MSE results\n",
    "train_accuracies = []\n",
    "test_accuracies = []\n",
    "train_mses = []\n",
    "test_mses = []\n",
    "\n",
    "# Perform k-fold cross-validation on the training data\n",
    "kf = KFold(n_splits=k, shuffle=True, random_state=1)\n",
    "\n",
    "for train_index, val_index in kf.split(X_train):\n",
    "    X_train_fold, X_val_fold = X_train[train_index], X_train[val_index]\n",
    "    y_train_fold, y_val_fold = y_train[train_index], y_train[val_index]\n",
    "\n",
    "    # Fit the LDA model on the training fold\n",
    "    lda.fit(X_train_fold, y_train_fold)\n",
    "\n",
    "    # Evaluate the LDA model on the training fold\n",
    "    train_pred = lda.predict(X_train_fold)\n",
    "    train_accuracy = accuracy_score(y_train_fold, train_pred)\n",
    "    train_accuracies.append(train_accuracy)\n",
    "\n",
    "    # Calculate and store the MSE for training fold\n",
    "    train_mse = mean_squared_error(y_train_fold, train_pred)\n",
    "    train_mses.append(train_mse)\n",
    "\n",
    "    # Evaluate the LDA model on the test data\n",
    "    test_pred = lda.predict(X_test)\n",
    "    test_accuracy = accuracy_score(y_test, test_pred)\n",
    "    test_accuracies.append(test_accuracy)\n",
    "\n",
    "    # Calculate and store the MSE for test data\n",
    "    test_mse = mean_squared_error(y_test, test_pred)\n",
    "    test_mses.append(test_mse)\n",
    "\n",
    "# Calculate and display average accuracy and MSE for training and test data\n",
    "avg_train_accuracy = sum(train_accuracies) / len(train_accuracies)\n",
    "avg_test_accuracy = sum(test_accuracies) / len(test_accuracies)\n",
    "avg_train_mse = sum(train_mses) / len(train_mses)\n",
    "avg_test_mse = sum(test_mses) / len(test_mses)\n",
    "\n",
    "print(f\"Average Training Accuracy: {avg_train_accuracy:.2f}\")\n",
    "print(f\"Average Test Accuracy: {avg_test_accuracy:.2f}\")\n",
    "print(f\"Average Training MSE: {avg_train_mse:.2f}\")\n",
    "print(f\"Average Test MSE: {avg_test_mse:.2f}\")"
   ]
  },
  {
   "cell_type": "markdown",
   "metadata": {},
   "source": [
    "QDA"
   ]
  },
  {
   "cell_type": "markdown",
   "metadata": {},
   "source": [
    "Accuracy, Precision, Recall, F-1 Score QDA Train"
   ]
  },
  {
   "cell_type": "code",
   "execution_count": null,
   "metadata": {},
   "outputs": [
    {
     "name": "stdout",
     "output_type": "stream",
     "text": [
      "Accuracy: 0.85\n",
      "Precision: 0.86\n",
      "Recall: 0.85\n",
      "F1-Score: 0.85\n",
      "Classification Report:\n",
      "               precision    recall  f1-score   support\n",
      "\n",
      "           0       0.85      0.86      0.85       349\n",
      "           1       0.86      0.85      0.85       351\n",
      "\n",
      "    accuracy                           0.85       700\n",
      "   macro avg       0.85      0.85      0.85       700\n",
      "weighted avg       0.85      0.85      0.85       700\n",
      "\n"
     ]
    },
    {
     "name": "stderr",
     "output_type": "stream",
     "text": [
      "C:\\Users\\Evelyn\\AppData\\Local\\Packages\\PythonSoftwareFoundation.Python.3.10_qbz5n2kfra8p0\\LocalCache\\local-packages\\Python310\\site-packages\\sklearn\\discriminant_analysis.py:926: UserWarning: Variables are collinear\n",
      "  warnings.warn(\"Variables are collinear\")\n"
     ]
    }
   ],
   "source": [
    "# Initialize the LDA model\n",
    "qda = QuadraticDiscriminantAnalysis()\n",
    "\n",
    "# Fit the model on the training data\n",
    "qda.fit(X_train, y_train)\n",
    "\n",
    "# Make predictions on the test data\n",
    "y_pred = qda.predict(X_train)\n",
    "\n",
    "# Calculate and print accuracy\n",
    "accuracy = accuracy_score(y_train, y_pred)\n",
    "print(f'Accuracy: {accuracy:.2f}')\n",
    "\n",
    "# Calculate and print precision\n",
    "precision = precision_score(y_train, y_pred)\n",
    "print(f'Precision: {precision:.2f}')\n",
    "\n",
    "# Calculate and print recall\n",
    "recall = recall_score(y_train, y_pred)\n",
    "print(f'Recall: {recall:.2f}')\n",
    "\n",
    "# Calculate and print F1-score\n",
    "f1 = f1_score(y_train, y_pred)\n",
    "print(f'F1-Score: {f1:.2f}')\n",
    "\n",
    "# Generate a classification report\n",
    "class_report = classification_report(y_train, y_pred)\n",
    "print(\"Classification Report:\\n\", class_report)"
   ]
  },
  {
   "cell_type": "markdown",
   "metadata": {},
   "source": [
    "Accuracy, Precision, Recall, F-1 Score QDA Test"
   ]
  },
  {
   "cell_type": "code",
   "execution_count": null,
   "metadata": {},
   "outputs": [
    {
     "name": "stdout",
     "output_type": "stream",
     "text": [
      "Accuracy: 0.83\n",
      "Precision: 0.87\n",
      "Recall: 0.77\n",
      "F1-Score: 0.81\n",
      "Classification Report:\n",
      "               precision    recall  f1-score   support\n",
      "\n",
      "           0       0.79      0.89      0.84       151\n",
      "           1       0.87      0.77      0.81       149\n",
      "\n",
      "    accuracy                           0.83       300\n",
      "   macro avg       0.83      0.83      0.83       300\n",
      "weighted avg       0.83      0.83      0.83       300\n",
      "\n"
     ]
    },
    {
     "name": "stderr",
     "output_type": "stream",
     "text": [
      "C:\\Users\\Evelyn\\AppData\\Local\\Packages\\PythonSoftwareFoundation.Python.3.10_qbz5n2kfra8p0\\LocalCache\\local-packages\\Python310\\site-packages\\sklearn\\discriminant_analysis.py:926: UserWarning: Variables are collinear\n",
      "  warnings.warn(\"Variables are collinear\")\n"
     ]
    }
   ],
   "source": [
    "# Fit the model on the training data\n",
    "qda.fit(X_test, y_test)\n",
    "\n",
    "# Make predictions on the test data\n",
    "y_pred = qda.predict(X_test)\n",
    "\n",
    "# Calculate and print accuracy\n",
    "accuracy = accuracy_score(y_test, y_pred)\n",
    "print(f'Accuracy: {accuracy:.2f}')\n",
    "\n",
    "# Calculate and print precision\n",
    "precision = precision_score(y_test, y_pred)\n",
    "print(f'Precision: {precision:.2f}')\n",
    "\n",
    "# Calculate and print recall\n",
    "recall = recall_score(y_test, y_pred)\n",
    "print(f'Recall: {recall:.2f}')\n",
    "\n",
    "# Calculate and print F1-score\n",
    "f1 = f1_score(y_test, y_pred)\n",
    "print(f'F1-Score: {f1:.2f}')\n",
    "\n",
    "# Generate a classification report\n",
    "class_report = classification_report(y_test, y_pred)\n",
    "print(\"Classification Report:\\n\", class_report)"
   ]
  },
  {
   "cell_type": "markdown",
   "metadata": {},
   "source": [
    "Confusion Matrix QDA Train"
   ]
  },
  {
   "cell_type": "code",
   "execution_count": null,
   "metadata": {},
   "outputs": [
    {
     "name": "stderr",
     "output_type": "stream",
     "text": [
      "C:\\Users\\Evelyn\\AppData\\Local\\Packages\\PythonSoftwareFoundation.Python.3.10_qbz5n2kfra8p0\\LocalCache\\local-packages\\Python310\\site-packages\\sklearn\\discriminant_analysis.py:926: UserWarning: Variables are collinear\n",
      "  warnings.warn(\"Variables are collinear\")\n"
     ]
    },
    {
     "data": {
      "image/png": "[encoded data removed]",
      "text/plain": [
       "<Figure size 640x480 with 2 Axes>"
      ]
     },
     "metadata": {},
     "output_type": "display_data"
    }
   ],
   "source": [
    "qda.fit(X_train, y_train)\n",
    "\n",
    "# Make predictions on the training data using the LDA model\n",
    "y_pred = qda.predict(X_train)\n",
    "\n",
    "# Create a confusion matrix with labeled classes\n",
    "confusion = confusion_matrix(y_train, y_pred)\n",
    "\n",
    "# Get the unique class labels from y_train\n",
    "class_labels = sorted(set(y_train))\n",
    "\n",
    "# Plot the confusion matrix with values\n",
    "sns.heatmap(pd.DataFrame(confusion, index=class_labels, columns=class_labels), annot=True, cmap='Blues', fmt='d')\n",
    "plt.title(\"Confusion Matrix\")\n",
    "plt.show()\n"
   ]
  },
  {
   "cell_type": "markdown",
   "metadata": {},
   "source": [
    "Confusion Matrix QDA Test"
   ]
  },
  {
   "cell_type": "code",
   "execution_count": null,
   "metadata": {},
   "outputs": [
    {
     "name": "stderr",
     "output_type": "stream",
     "text": [
      "C:\\Users\\Evelyn\\AppData\\Local\\Packages\\PythonSoftwareFoundation.Python.3.10_qbz5n2kfra8p0\\LocalCache\\local-packages\\Python310\\site-packages\\sklearn\\discriminant_analysis.py:926: UserWarning: Variables are collinear\n",
      "  warnings.warn(\"Variables are collinear\")\n"
     ]
    },
    {
     "data": {
      "image/png": "[encoded data removed]",
      "text/plain": [
       "<Figure size 640x480 with 2 Axes>"
      ]
     },
     "metadata": {},
     "output_type": "display_data"
    }
   ],
   "source": [
    "qda.fit(X_test, y_test)\n",
    "\n",
    "# Make predictions on the test data using the LDA model\n",
    "y_pred = qda.predict(X_test)\n",
    "\n",
    "# Create a confusion matrix with labeled classes\n",
    "confusion = confusion_matrix(y_test, y_pred)\n",
    "\n",
    "# Get the unique class labels from y_test\n",
    "class_labels = sorted(set(y_test))\n",
    "\n",
    "# Plot the confusion matrix with values\n",
    "sns.heatmap(pd.DataFrame(confusion, index=class_labels, columns=class_labels), annot=True, cmap='Blues', fmt='d')\n",
    "plt.title(\"Confusion Matrix\")\n",
    "plt.show()\n"
   ]
  },
  {
   "cell_type": "markdown",
   "metadata": {},
   "source": [
    "K-Fold QDA"
   ]
  },
  {
   "cell_type": "code",
   "execution_count": null,
   "metadata": {},
   "outputs": [
    {
     "name": "stdout",
     "output_type": "stream",
     "text": [
      "Average Training Accuracy: 0.82\n",
      "Average Test Accuracy: 0.73\n",
      "Average Training MSE: 0.18\n",
      "Average Test MSE: 0.27\n"
     ]
    },
    {
     "name": "stderr",
     "output_type": "stream",
     "text": [
      "C:\\Users\\Evelyn\\AppData\\Local\\Packages\\PythonSoftwareFoundation.Python.3.10_qbz5n2kfra8p0\\LocalCache\\local-packages\\Python310\\site-packages\\sklearn\\discriminant_analysis.py:926: UserWarning: Variables are collinear\n",
      "  warnings.warn(\"Variables are collinear\")\n",
      "C:\\Users\\Evelyn\\AppData\\Local\\Packages\\PythonSoftwareFoundation.Python.3.10_qbz5n2kfra8p0\\LocalCache\\local-packages\\Python310\\site-packages\\sklearn\\discriminant_analysis.py:926: UserWarning: Variables are collinear\n",
      "  warnings.warn(\"Variables are collinear\")\n",
      "C:\\Users\\Evelyn\\AppData\\Local\\Packages\\PythonSoftwareFoundation.Python.3.10_qbz5n2kfra8p0\\LocalCache\\local-packages\\Python310\\site-packages\\sklearn\\discriminant_analysis.py:926: UserWarning: Variables are collinear\n",
      "  warnings.warn(\"Variables are collinear\")\n",
      "C:\\Users\\Evelyn\\AppData\\Local\\Packages\\PythonSoftwareFoundation.Python.3.10_qbz5n2kfra8p0\\LocalCache\\local-packages\\Python310\\site-packages\\sklearn\\discriminant_analysis.py:926: UserWarning: Variables are collinear\n",
      "  warnings.warn(\"Variables are collinear\")\n",
      "C:\\Users\\Evelyn\\AppData\\Local\\Packages\\PythonSoftwareFoundation.Python.3.10_qbz5n2kfra8p0\\LocalCache\\local-packages\\Python310\\site-packages\\sklearn\\discriminant_analysis.py:926: UserWarning: Variables are collinear\n",
      "  warnings.warn(\"Variables are collinear\")\n",
      "C:\\Users\\Evelyn\\AppData\\Local\\Packages\\PythonSoftwareFoundation.Python.3.10_qbz5n2kfra8p0\\LocalCache\\local-packages\\Python310\\site-packages\\sklearn\\discriminant_analysis.py:926: UserWarning: Variables are collinear\n",
      "  warnings.warn(\"Variables are collinear\")\n",
      "C:\\Users\\Evelyn\\AppData\\Local\\Packages\\PythonSoftwareFoundation.Python.3.10_qbz5n2kfra8p0\\LocalCache\\local-packages\\Python310\\site-packages\\sklearn\\discriminant_analysis.py:926: UserWarning: Variables are collinear\n",
      "  warnings.warn(\"Variables are collinear\")\n",
      "C:\\Users\\Evelyn\\AppData\\Local\\Packages\\PythonSoftwareFoundation.Python.3.10_qbz5n2kfra8p0\\LocalCache\\local-packages\\Python310\\site-packages\\sklearn\\discriminant_analysis.py:926: UserWarning: Variables are collinear\n",
      "  warnings.warn(\"Variables are collinear\")\n",
      "C:\\Users\\Evelyn\\AppData\\Local\\Packages\\PythonSoftwareFoundation.Python.3.10_qbz5n2kfra8p0\\LocalCache\\local-packages\\Python310\\site-packages\\sklearn\\discriminant_analysis.py:926: UserWarning: Variables are collinear\n",
      "  warnings.warn(\"Variables are collinear\")\n",
      "C:\\Users\\Evelyn\\AppData\\Local\\Packages\\PythonSoftwareFoundation.Python.3.10_qbz5n2kfra8p0\\LocalCache\\local-packages\\Python310\\site-packages\\sklearn\\discriminant_analysis.py:926: UserWarning: Variables are collinear\n",
      "  warnings.warn(\"Variables are collinear\")\n"
     ]
    }
   ],
   "source": [
    "# Number of folds for cross-validation\n",
    "k = 10  # You can adjust the number of folds\n",
    "\n",
    "\n",
    "# Initialize variables to store accuracy and MSE results\n",
    "train_accuracies = []\n",
    "test_accuracies = []\n",
    "train_mses = []\n",
    "test_mses = []\n",
    "\n",
    "# Perform k-fold cross-validation on the training data\n",
    "kf = KFold(n_splits=k, shuffle=True, random_state=1)\n",
    "\n",
    "for train_index, val_index in kf.split(X_train):\n",
    "    X_train_fold, X_val_fold = X_train[train_index], X_train[val_index]\n",
    "    y_train_fold, y_val_fold = y_train[train_index], y_train[val_index]\n",
    "\n",
    "    # Fit the LDA model on the training fold\n",
    "    qda.fit(X_train_fold, y_train_fold)\n",
    "\n",
    "    # Evaluate the LDA model on the training fold\n",
    "    train_pred = qda.predict(X_train_fold)\n",
    "    train_accuracy = accuracy_score(y_train_fold, train_pred)\n",
    "    train_accuracies.append(train_accuracy)\n",
    "\n",
    "    # Calculate and store the MSE for training fold\n",
    "    train_mse = mean_squared_error(y_train_fold, train_pred)\n",
    "    train_mses.append(train_mse)\n",
    "\n",
    "    # Evaluate the LDA model on the test data\n",
    "    test_pred = qda.predict(X_test)\n",
    "    test_accuracy = accuracy_score(y_test, test_pred)\n",
    "    test_accuracies.append(test_accuracy)\n",
    "\n",
    "    # Calculate and store the MSE for test data\n",
    "    test_mse = mean_squared_error(y_test, test_pred)\n",
    "    test_mses.append(test_mse)\n",
    "\n",
    "# Calculate and display average accuracy and MSE for training and test data\n",
    "avg_train_accuracy = sum(train_accuracies) / len(train_accuracies)\n",
    "avg_test_accuracy = sum(test_accuracies) / len(test_accuracies)\n",
    "avg_train_mse = sum(train_mses) / len(train_mses)\n",
    "avg_test_mse = sum(test_mses) / len(test_mses)\n",
    "\n",
    "print(f\"Average Training Accuracy: {avg_train_accuracy:.2f}\")\n",
    "print(f\"Average Test Accuracy: {avg_test_accuracy:.2f}\")\n",
    "print(f\"Average Training MSE: {avg_train_mse:.2f}\")\n",
    "print(f\"Average Test MSE: {avg_test_mse:.2f}\")\n"
   ]
  },
  {
   "cell_type": "markdown",
   "metadata": {},
   "source": [
    "Naive Bayes"
   ]
  },
  {
   "cell_type": "markdown",
   "metadata": {},
   "source": [
    "Accuracy, Precision, Recall, F-1 Score Naive Bayes Train"
   ]
  },
  {
   "cell_type": "code",
   "execution_count": null,
   "metadata": {},
   "outputs": [
    {
     "name": "stdout",
     "output_type": "stream",
     "text": [
      "Accuracy: 0.86\n",
      "Precision: 0.89\n",
      "Recall: 0.83\n",
      "F1-Score: 0.86\n",
      "Classification Report:\n",
      "               precision    recall  f1-score   support\n",
      "\n",
      "           0       0.84      0.90      0.87       349\n",
      "           1       0.89      0.83      0.86       351\n",
      "\n",
      "    accuracy                           0.86       700\n",
      "   macro avg       0.87      0.86      0.86       700\n",
      "weighted avg       0.87      0.86      0.86       700\n",
      "\n"
     ]
    }
   ],
   "source": [
    "# Initialize the Gaussian Naive Bayes model\n",
    "nb = GaussianNB()\n",
    "\n",
    "# Fit the model on the training data\n",
    "nb.fit(X_train, y_train)\n",
    "\n",
    "# Make predictions on the test data\n",
    "y_pred = nb.predict(X_train)\n",
    "\n",
    "# Calculate and print accuracy\n",
    "accuracy = accuracy_score(y_train, y_pred)\n",
    "print(f'Accuracy: {accuracy:.2f}')\n",
    "\n",
    "# Calculate and print precision\n",
    "precision = precision_score(y_train, y_pred)\n",
    "print(f'Precision: {precision:.2f}')\n",
    "\n",
    "# Calculate and print recall\n",
    "recall = recall_score(y_train, y_pred)\n",
    "print(f'Recall: {recall:.2f}')\n",
    "\n",
    "# Calculate and print F1-score\n",
    "f1 = f1_score(y_train, y_pred)\n",
    "print(f'F1-Score: {f1:.2f}')\n",
    "\n",
    "# Generate a classification report\n",
    "class_report = classification_report(y_train, y_pred)\n",
    "print(\"Classification Report:\\n\", class_report)"
   ]
  },
  {
   "cell_type": "markdown",
   "metadata": {},
   "source": [
    "Accuracy, Precision, Recall, F-1 Score Naive Bayes Test"
   ]
  },
  {
   "cell_type": "code",
   "execution_count": null,
   "metadata": {},
   "outputs": [
    {
     "name": "stdout",
     "output_type": "stream",
     "text": [
      "Accuracy: 0.81\n",
      "Precision: 0.86\n",
      "Recall: 0.74\n",
      "F1-Score: 0.79\n",
      "Classification Report:\n",
      "               precision    recall  f1-score   support\n",
      "\n",
      "           0       0.77      0.88      0.82       151\n",
      "           1       0.86      0.74      0.79       149\n",
      "\n",
      "    accuracy                           0.81       300\n",
      "   macro avg       0.82      0.81      0.81       300\n",
      "weighted avg       0.82      0.81      0.81       300\n",
      "\n"
     ]
    }
   ],
   "source": [
    "# Fit the model on the training data\n",
    "nb.fit(X_test, y_test)\n",
    "\n",
    "# Make predictions on the test data\n",
    "y_pred = nb.predict(X_test)\n",
    "\n",
    "# Calculate and print accuracy\n",
    "accuracy = accuracy_score(y_test, y_pred)\n",
    "print(f'Accuracy: {accuracy:.2f}')\n",
    "\n",
    "# Calculate and print precision\n",
    "precision = precision_score(y_test, y_pred)\n",
    "print(f'Precision: {precision:.2f}')\n",
    "\n",
    "# Calculate and print recall\n",
    "recall = recall_score(y_test, y_pred)\n",
    "print(f'Recall: {recall:.2f}')\n",
    "\n",
    "# Calculate and print F1-score\n",
    "f1 = f1_score(y_test, y_pred)\n",
    "print(f'F1-Score: {f1:.2f}')\n",
    "\n",
    "# Generate a classification report\n",
    "class_report = classification_report(y_test, y_pred)\n",
    "print(\"Classification Report:\\n\", class_report)"
   ]
  },
  {
   "cell_type": "markdown",
   "metadata": {},
   "source": [
    "Confusion Matrix Naive Bayes Train"
   ]
  },
  {
   "cell_type": "code",
   "execution_count": null,
   "metadata": {},
   "outputs": [
    {
     "data": {
      "image/png": "[encoded data removed]",
      "text/plain": [
       "<Figure size 640x480 with 2 Axes>"
      ]
     },
     "metadata": {},
     "output_type": "display_data"
    }
   ],
   "source": [
    "nb.fit(X_train, y_train)\n",
    "\n",
    "# Make predictions on the training data using the LDA model\n",
    "y_pred = nb.predict(X_train)\n",
    "\n",
    "# Create a confusion matrix with labeled classes\n",
    "confusion = confusion_matrix(y_train, y_pred)\n",
    "\n",
    "# Get the unique class labels from y_train\n",
    "class_labels = sorted(set(y_train))\n",
    "\n",
    "# Plot the confusion matrix with values\n",
    "sns.heatmap(pd.DataFrame(confusion, index=class_labels, columns=class_labels), annot=True, cmap='Blues', fmt='d')\n",
    "plt.title(\"Confusion Matrix\")\n",
    "plt.show()\n"
   ]
  },
  {
   "cell_type": "markdown",
   "metadata": {},
   "source": [
    "Confusion Matrix Naive Bayes Test"
   ]
  },
  {
   "cell_type": "code",
   "execution_count": null,
   "metadata": {},
   "outputs": [
    {
     "data": {
      "image/png": "[encoded data removed]",
      "text/plain": [
       "<Figure size 640x480 with 2 Axes>"
      ]
     },
     "metadata": {},
     "output_type": "display_data"
    }
   ],
   "source": [
    "nb.fit(X_test, y_test)\n",
    "\n",
    "# Make predictions on the test data using the LDA model\n",
    "y_pred = nb.predict(X_test)\n",
    "\n",
    "# Create a confusion matrix with labeled classes\n",
    "confusion = confusion_matrix(y_test, y_pred)\n",
    "\n",
    "# Get the unique class labels from y_test\n",
    "class_labels = sorted(set(y_test))\n",
    "\n",
    "# Plot the confusion matrix with values\n",
    "sns.heatmap(pd.DataFrame(confusion, index=class_labels, columns=class_labels), annot=True, cmap='Blues', fmt='d')\n",
    "plt.title(\"Confusion Matrix\")\n",
    "plt.show()\n"
   ]
  },
  {
   "cell_type": "markdown",
   "metadata": {},
   "source": [
    "K-Fold Naive Bayes"
   ]
  },
  {
   "cell_type": "code",
   "execution_count": null,
   "metadata": {},
   "outputs": [
    {
     "name": "stdout",
     "output_type": "stream",
     "text": [
      "Average Training Accuracy: 0.86\n",
      "Average Test Accuracy: 0.81\n",
      "Average Training MSE: 0.14\n",
      "Average Test MSE: 0.19\n"
     ]
    }
   ],
   "source": [
    "# Number of folds for cross-validation\n",
    "k = 10  # You can adjust the number of folds\n",
    "\n",
    "# Initialize variables to store accuracy and MSE results\n",
    "train_accuracies = []\n",
    "test_accuracies = []\n",
    "train_mses = []\n",
    "test_mses = []\n",
    "\n",
    "# Perform k-fold cross-validation on the training data\n",
    "kf = KFold(n_splits=k, shuffle=True, random_state=1)\n",
    "\n",
    "for train_index, val_index in kf.split(X_train):\n",
    "    X_train_fold, X_val_fold = X_train[train_index], X_train[val_index]\n",
    "    y_train_fold, y_val_fold = y_train[train_index], y_train[val_index]\n",
    "\n",
    "    # Fit the LDA model on the training fold\n",
    "    nb.fit(X_train_fold, y_train_fold)\n",
    "\n",
    "    # Evaluate the LDA model on the training fold\n",
    "    train_pred = nb.predict(X_train_fold)\n",
    "    train_accuracy = accuracy_score(y_train_fold, train_pred)\n",
    "    train_accuracies.append(train_accuracy)\n",
    "\n",
    "    # Calculate and store the MSE for training fold\n",
    "    train_mse = mean_squared_error(y_train_fold, train_pred)\n",
    "    train_mses.append(train_mse)\n",
    "\n",
    "    # Evaluate the LDA model on the test data\n",
    "    test_pred = nb.predict(X_test)\n",
    "    test_accuracy = accuracy_score(y_test, test_pred)\n",
    "    test_accuracies.append(test_accuracy)\n",
    "\n",
    "    # Calculate and store the MSE for test data\n",
    "    test_mse = mean_squared_error(y_test, test_pred)\n",
    "    test_mses.append(test_mse)\n",
    "\n",
    "# Calculate and display average accuracy and MSE for training and test data\n",
    "avg_train_accuracy = sum(train_accuracies) / len(train_accuracies)\n",
    "avg_test_accuracy = sum(test_accuracies) / len(test_accuracies)\n",
    "avg_train_mse = sum(train_mses) / len(train_mses)\n",
    "avg_test_mse = sum(test_mses) / len(test_mses)\n",
    "\n",
    "print(f\"Average Training Accuracy: {avg_train_accuracy:.2f}\")\n",
    "print(f\"Average Test Accuracy: {avg_test_accuracy:.2f}\")\n",
    "print(f\"Average Training MSE: {avg_train_mse:.2f}\")\n",
    "print(f\"Average Test MSE: {avg_test_mse:.2f}\")\n"
   ]
  },
  {
   "cell_type": "markdown",
   "metadata": {},
   "source": [
    "ROC AUC Curve of Logistic, LDA, QDA, Naive Bayes"
   ]
  },
  {
   "cell_type": "code",
   "execution_count": null,
   "metadata": {},
   "outputs": [
    {
     "name": "stderr",
     "output_type": "stream",
     "text": [
      "C:\\Users\\Evelyn\\AppData\\Local\\Packages\\PythonSoftwareFoundation.Python.3.10_qbz5n2kfra8p0\\LocalCache\\local-packages\\Python310\\site-packages\\sklearn\\discriminant_analysis.py:926: UserWarning: Variables are collinear\n",
      "  warnings.warn(\"Variables are collinear\")\n"
     ]
    },
    {
     "data": {
      "image/png": "[encoded data removed]",
      "text/plain": [
       "<Figure size 1000x600 with 1 Axes>"
      ]
     },
     "metadata": {},
     "output_type": "display_data"
    }
   ],
   "source": [
    "# Initialize models\n",
    "models = [\n",
    "    (\"Logistic Regression\", LogisticRegression()),\n",
    "    (\"LDA\", LinearDiscriminantAnalysis()),\n",
    "    (\"QDA\", QuadraticDiscriminantAnalysis()),\n",
    "    (\"Naive Bayes\", GaussianNB())\n",
    "]\n",
    "\n",
    "# Initialize dictionaries to store ROC data\n",
    "roc_data = {}\n",
    "\n",
    "# Fit each model, calculate ROC data, and store it\n",
    "for model_name, model in models:\n",
    "    model.fit(X_train, y_train)\n",
    "    y_score = model.predict_proba(X_test)[:, 1]\n",
    "    fpr, tpr, _ = roc_curve(y_test, y_score)\n",
    "    roc_auc = auc(fpr, tpr)\n",
    "    roc_data[model_name] = (fpr, tpr, roc_auc)\n",
    "\n",
    "# Plot ROC curves for each model\n",
    "plt.figure(figsize=(10, 6))\n",
    "for model_name, (fpr, tpr, roc_auc) in roc_data.items():\n",
    "    plt.plot(fpr, tpr, lw=2, label=f'{model_name} (AUC = {roc_auc:.2f})')\n",
    "\n",
    "plt.plot([0, 1], [0, 1], color='navy', lw=2, linestyle='--')\n",
    "plt.xlim([0.0, 1.0])\n",
    "plt.ylim([0.0, 1.05])\n",
    "plt.xlabel('False Positive Rate')\n",
    "plt.ylabel('True Positive Rate')\n",
    "plt.title('ROC-AUC Curves for Multiple Models')\n",
    "plt.legend(loc='lower right')\n",
    "plt.show()"
   ]
  }
 ],
 "metadata": {
  "kernelspec": {
   "display_name": "Python 3",
   "language": "python",
   "name": "python3"
  },
  "language_info": {
   "codemirror_mode": {
    "name": "ipython",
    "version": 3
   },
   "file_extension": ".py",
   "mimetype": "text/x-python",
   "name": "python",
   "nbconvert_exporter": "python",
   "pygments_lexer": "ipython3",
   "version": "3.10.11"
  },
  "orig_nbformat": 4
 },
 "nbformat": 4,
 "nbformat_minor": 2
}
